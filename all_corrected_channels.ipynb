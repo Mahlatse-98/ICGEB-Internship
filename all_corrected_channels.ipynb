{
 "cells": [
  {
   "cell_type": "markdown",
   "id": "0e674f34",
   "metadata": {},
   "source": [
    "#### 1. Load the required packages and dependencies"
   ]
  },
  {
   "cell_type": "code",
   "execution_count": 26,
   "id": "d589ee50",
   "metadata": {},
   "outputs": [
    {
     "name": "stdout",
     "output_type": "stream",
     "text": [
      "Collecting argparse\n",
      "  Using cached argparse-1.4.0-py2.py3-none-any.whl.metadata (2.8 kB)\n",
      "Using cached argparse-1.4.0-py2.py3-none-any.whl (23 kB)\n",
      "Installing collected packages: argparse\n",
      "Successfully installed argparse-1.4.0\n",
      "Note: you may need to restart the kernel to use updated packages.\n",
      "Requirement already satisfied: matplotlib in c:\\users\\g\\examml\\venv\\lib\\site-packages (3.10.3)\n",
      "Requirement already satisfied: contourpy>=1.0.1 in c:\\users\\g\\examml\\venv\\lib\\site-packages (from matplotlib) (1.3.2)\n",
      "Requirement already satisfied: cycler>=0.10 in c:\\users\\g\\examml\\venv\\lib\\site-packages (from matplotlib) (0.12.1)\n",
      "Requirement already satisfied: fonttools>=4.22.0 in c:\\users\\g\\examml\\venv\\lib\\site-packages (from matplotlib) (4.58.2)\n",
      "Requirement already satisfied: kiwisolver>=1.3.1 in c:\\users\\g\\examml\\venv\\lib\\site-packages (from matplotlib) (1.4.8)\n",
      "Requirement already satisfied: numpy>=1.23 in c:\\users\\g\\examml\\venv\\lib\\site-packages (from matplotlib) (2.1.3)\n",
      "Requirement already satisfied: packaging>=20.0 in c:\\users\\g\\examml\\venv\\lib\\site-packages (from matplotlib) (25.0)\n",
      "Requirement already satisfied: pillow>=8 in c:\\users\\g\\examml\\venv\\lib\\site-packages (from matplotlib) (11.2.1)\n",
      "Requirement already satisfied: pyparsing>=2.3.1 in c:\\users\\g\\examml\\venv\\lib\\site-packages (from matplotlib) (3.2.3)\n",
      "Requirement already satisfied: python-dateutil>=2.7 in c:\\users\\g\\examml\\venv\\lib\\site-packages (from matplotlib) (2.9.0.post0)\n",
      "Requirement already satisfied: six>=1.5 in c:\\users\\g\\examml\\venv\\lib\\site-packages (from python-dateutil>=2.7->matplotlib) (1.17.0)\n",
      "Note: you may need to restart the kernel to use updated packages.\n",
      "Requirement already satisfied: tifffile in c:\\users\\g\\examml\\venv\\lib\\site-packages (2025.9.20)\n",
      "Requirement already satisfied: numpy in c:\\users\\g\\examml\\venv\\lib\\site-packages (from tifffile) (2.1.3)\n",
      "Note: you may need to restart the kernel to use updated packages.\n"
     ]
    }
   ],
   "source": [
    "%pip install argparse\n",
    "%pip install matplotlib\n",
    "%pip install tifffile\n",
    "\n",
    "import argparse as args\n",
    "import matplotlib.pyplot as plt\n",
    "import numpy as np\n",
    "import os\n",
    "import pandas as pd\n",
    "import random\n",
    "import tifffile as tiff\n",
    "from pathlib import Path\n",
    "from sklearn.linear_model import LinearRegression, RANSACRegressor"
   ]
  },
  {
   "cell_type": "markdown",
   "id": "6ab6ab1a",
   "metadata": {},
   "source": [
    "#### 2. Load the input image and files"
   ]
  },
  {
   "cell_type": "code",
   "execution_count": 28,
   "id": "b80f9834",
   "metadata": {},
   "outputs": [
    {
     "name": "stdout",
     "output_type": "stream",
     "text": [
      "Loaded image with shape: (7, 5376, 4056)\n",
      "Channel pairs for correction (0-based indices):\n",
      " [(0, 6), (1, 6), (2, 6), (3, 6), (4, 6), (5, 6)]\n"
     ]
    }
   ],
   "source": [
    "# Define paths\n",
    "image_path = Path(\"C:/Users/g/Downloads/test.ome 1.tif\")   # the OME-TIFF path\n",
    "csv_path = Path(\"C:/Users/g/Downloads/target_background_pairs.csv\") # the input CSV path\n",
    "output_dir = Path(\"C:/Users/g/Downloads/all_corrected_channels\")\n",
    "output_dir.mkdir(exist_ok=True)\n",
    "\n",
    "# Load the OME-TIFF image\n",
    "arr = tiff.imread(image_path)  # shape (C, H, W)\n",
    "print(f\"Loaded image with shape: {arr.shape}\")\n",
    "\n",
    "# Load the csv with channel pairs\n",
    "# Accept either '1;7' single-column rows or two-column CSVs; skip a header row if present.\n",
    "# Use a regex sep to accept both semicolon and comma separators.\n",
    "df_pairs = pd.read_csv(csv_path, dtype=str, sep='[;,]', engine='python', comment='#')\n",
    "\n",
    "pairs = []\n",
    "# NOTE: CSV channels are often 1-based. Convert to 0-based indices to index numpy arrays.\n",
    "# If the file was a single column (e.g., each row \"1;7\"), split the values\n",
    "if df_pairs.shape[1] == 1:\n",
    "    for val in df_pairs.iloc[:, 0].astype(str):\n",
    "        s = val.strip()\n",
    "        # skip an explicit header row if present\n",
    "        if not s or s.lower().startswith('target') or s.lower().startswith('background'):\n",
    "            continue\n",
    "        parts = [p.strip() for p in s.replace(',', ';').split(';')]\n",
    "        if len(parts) < 2:\n",
    "            raise ValueError(f\"Could not parse channel pair from value '{val}'\")\n",
    "        try:\n",
    "            # convert to zero-based indices\n",
    "            t, b = int(parts[0]) - 1, int(parts[1]) - 1\n",
    "        except ValueError:\n",
    "            raise ValueError(f\"Could not parse channel pair from value '{val}'\")\n",
    "        pairs.append((t, b))\n",
    "else:\n",
    "    # Multiple columns: use the first two columns\n",
    "    for idx, row in df_pairs.iloc[:, :2].iterrows():\n",
    "        a, b = str(row.iloc[0]).strip(), str(row.iloc[1]).strip()\n",
    "        # skip header-like rows\n",
    "        if not a or not b or a.lower().startswith('target') or b.lower().startswith('background'):\n",
    "            continue\n",
    "        try:\n",
    "            # convert to zero-based indices\n",
    "            t, bg = int(a) - 1, int(b) - 1\n",
    "        except ValueError:\n",
    "            raise ValueError(f\"Could not parse channel pair from row {list(row.values)}\")\n",
    "        pairs.append((t, bg))\n",
    "\n",
    "if len(pairs) == 0:\n",
    "    raise ValueError(\"No valid channel pairs found in CSV.\")\n",
    "\n",
    "print(\"Channel pairs for correction (0-based indices):\\n\", pairs)"
   ]
  },
  {
   "cell_type": "markdown",
   "id": "4cb1543e",
   "metadata": {},
   "source": [
    "#### 3. Define tile parameters"
   ]
  },
  {
   "cell_type": "code",
   "execution_count": null,
   "id": "31b7f7d6",
   "metadata": {},
   "outputs": [],
   "source": [
    "tile_size = 1000  # Size of each tile (1000x1000 pixels)\n",
    "num_tiles = 10    # Maximum number of tiles to sample per channel pair"
   ]
  },
  {
   "cell_type": "markdown",
   "id": "f9311cbb",
   "metadata": {},
   "source": [
    "#### 4. Loop over every channel to select tiles with high signal intensity and minimal background pixels"
   ]
  },
  {
   "cell_type": "code",
   "execution_count": 29,
   "id": "40deaf7c",
   "metadata": {},
   "outputs": [
    {
     "name": "stdout",
     "output_type": "stream",
     "text": [
      "\n",
      "🔹 Correcting Channel 0 using background Channel 6\n",
      "Channel 0 - mean: 527.59, max: 18880.00\n",
      "Adaptive thresholds → mean > 791.4, max > 5664.0\n",
      "Found 6 bright tiles.\n",
      "Fewer bright tiles than requested, using all available.\n",
      "Selected bright tile coordinates (y, x): [(2000, 0), (2000, 1000), (2000, 2000), (2000, 3000), (3000, 1000), (3000, 2000)]\n",
      "\n",
      "🔹 Correcting Channel 1 using background Channel 6\n",
      "Channel 1 - mean: 849.17, max: 64105.00\n",
      "Adaptive thresholds → mean > 1273.8, max > 19231.5\n",
      "Found 6 bright tiles.\n",
      "Fewer bright tiles than requested, using all available.\n",
      "Selected bright tile coordinates (y, x): [(2000, 0), (2000, 1000), (2000, 2000), (2000, 3000), (3000, 1000), (3000, 2000)]\n",
      "\n",
      "🔹 Correcting Channel 2 using background Channel 6\n",
      "Channel 2 - mean: 295.55, max: 38333.00\n",
      "Adaptive thresholds → mean > 443.3, max > 11499.9\n",
      "Found 6 bright tiles.\n",
      "Fewer bright tiles than requested, using all available.\n",
      "Selected bright tile coordinates (y, x): [(2000, 0), (2000, 1000), (2000, 2000), (2000, 3000), (3000, 1000), (3000, 2000)]\n",
      "\n",
      "🔹 Correcting Channel 3 using background Channel 6\n",
      "Channel 3 - mean: 311.36, max: 8637.00\n",
      "Adaptive thresholds → mean > 467.0, max > 2591.1\n",
      "Found 6 bright tiles.\n",
      "Fewer bright tiles than requested, using all available.\n",
      "Selected bright tile coordinates (y, x): [(2000, 0), (2000, 1000), (2000, 2000), (2000, 3000), (3000, 1000), (3000, 2000)]\n",
      "\n",
      "🔹 Correcting Channel 4 using background Channel 6\n",
      "Channel 4 - mean: 71.86, max: 6385.00\n",
      "Adaptive thresholds → mean > 107.8, max > 1915.5\n",
      "Found 6 bright tiles.\n",
      "Fewer bright tiles than requested, using all available.\n",
      "Selected bright tile coordinates (y, x): [(2000, 0), (2000, 1000), (2000, 2000), (2000, 3000), (3000, 1000), (3000, 2000)]\n",
      "\n",
      "🔹 Correcting Channel 5 using background Channel 6\n",
      "Channel 5 - mean: 282.98, max: 21460.00\n",
      "Adaptive thresholds → mean > 424.5, max > 6438.0\n",
      "Found 6 bright tiles.\n",
      "Fewer bright tiles than requested, using all available.\n",
      "Selected bright tile coordinates (y, x): [(2000, 0), (2000, 1000), (2000, 2000), (2000, 3000), (3000, 1000), (3000, 2000)]\n"
     ]
    }
   ],
   "source": [
    "results = {}  # dictionary to store results for each channel pair\n",
    "\n",
    "# Loop over each target/background pair from the CSV\n",
    "for target_chan, bg_chan in pairs:\n",
    "    print(f\"\\n🔹 Correcting Channel {target_chan} using background Channel {bg_chan}\")\n",
    "\n",
    "    ch_target = arr[target_chan].astype(np.float32)\n",
    "    ch_bg = arr[bg_chan].astype(np.float32)\n",
    "    C, H, W = arr.shape\n",
    "\n",
    "    # Compute global stats\n",
    "    mean_intensity = ch_target.mean()\n",
    "    max_intensity = ch_target.max()\n",
    "    print(f\"Channel {target_chan} - mean: {mean_intensity:.2f}, max: {max_intensity:.2f}\")\n",
    "\n",
    "    # Set adaptive thresholds based on global stats\n",
    "    mean_thresh = mean_intensity * 1.5   # 50% brighter than average\n",
    "    max_thresh = max_intensity * 0.3     # top 30% of max\n",
    "    print(f\"Adaptive thresholds → mean > {mean_thresh:.1f}, max > {max_thresh:.1f}\")\n",
    "\n",
    "    # Find bright tiles\n",
    "    bright_tiles_coords = []\n",
    "    for y in range(0, H - tile_size, tile_size):\n",
    "        for x in range(0, W - tile_size, tile_size):\n",
    "            tile = ch_target[y:y+tile_size, x:x+tile_size]\n",
    "            if tile.mean() > mean_thresh and tile.max() > max_thresh:\n",
    "                bright_tiles_coords.append((y, x))\n",
    "\n",
    "    print(f\"Found {len(bright_tiles_coords)} bright tiles.\")\n",
    "\n",
    "    # Select tiles\n",
    "    if len(bright_tiles_coords) == 0:\n",
    "        print(\"No bright tiles found. Skipping this channel.\")\n",
    "        continue\n",
    "    elif len(bright_tiles_coords) < num_tiles:\n",
    "        coords = bright_tiles_coords\n",
    "        print(\"Fewer bright tiles than requested, using all available.\")\n",
    "    else:\n",
    "        coords = random.sample(bright_tiles_coords, num_tiles)\n",
    "\n",
    "    print(\"Selected bright tile coordinates (y, x):\", coords)\n",
    "\n",
    "    # Save coords for use in the next step\n",
    "    results[target_chan] = {\"background\": bg_chan, \"coords\": coords}\n"
   ]
  },
  {
   "cell_type": "markdown",
   "id": "47fe539b",
   "metadata": {},
   "source": [
    "#### 5. Estimate and apply the background co-efficient"
   ]
  },
  {
   "cell_type": "code",
   "execution_count": 30,
   "id": "b97d7baf",
   "metadata": {},
   "outputs": [
    {
     "name": "stdout",
     "output_type": "stream",
     "text": [
      "\n",
      " Estimating correction for Channel 0 (BG 6)\n",
      "Channel 0: coef = 0.7472, intercept = -950.01\n",
      "\n",
      " Estimating correction for Channel 1 (BG 6)\n",
      "Channel 1: coef = 1.0932, intercept = -1175.02\n",
      "\n",
      " Estimating correction for Channel 2 (BG 6)\n",
      "Channel 2: coef = 0.3908, intercept = -498.00\n",
      "\n",
      " Estimating correction for Channel 3 (BG 6)\n",
      "Channel 3: coef = 0.4174, intercept = -481.57\n",
      "\n",
      " Estimating correction for Channel 4 (BG 6)\n",
      "Channel 4: coef = 0.0739, intercept = -63.28\n",
      "\n",
      " Estimating correction for Channel 5 (BG 6)\n",
      "Channel 5: coef = 0.4002, intercept = -580.96\n",
      "\n",
      " Summary of all correction coefficients:\n",
      "Channel 0 (BG 6): coef=0.7472, intercept=-950.01\n",
      "Channel 1 (BG 6): coef=1.0932, intercept=-1175.02\n",
      "Channel 2 (BG 6): coef=0.3908, intercept=-498.00\n",
      "Channel 3 (BG 6): coef=0.4174, intercept=-481.57\n",
      "Channel 4 (BG 6): coef=0.0739, intercept=-63.28\n",
      "Channel 5 (BG 6): coef=0.4002, intercept=-580.96\n"
     ]
    }
   ],
   "source": [
    "# Estimate correction coefficients and apply correction \n",
    "for target_chan, info in results.items():\n",
    "    bg_chan = info[\"background\"]\n",
    "    coords = info[\"coords\"]\n",
    "\n",
    "    print(f\"\\n Estimating correction for Channel {target_chan} (BG {bg_chan})\")\n",
    "\n",
    "    ch_target = arr[target_chan].astype(np.float32)\n",
    "    ch_bg = arr[bg_chan].astype(np.float32)\n",
    "\n",
    "    # Gather pixels from bright tiles\n",
    "    bg_values = []\n",
    "    target_values = []\n",
    "    for (y, x) in coords:\n",
    "        tile_target = ch_target[y:y+tile_size, x:x+tile_size].flatten()\n",
    "        tile_bg = ch_bg[y:y+tile_size, x:x+tile_size].flatten()\n",
    "        bg_values.append(tile_bg)\n",
    "        target_values.append(tile_target)\n",
    "\n",
    "    # Combine all tile pixels\n",
    "    bg_values = np.concatenate(bg_values)\n",
    "    target_values = np.concatenate(target_values)\n",
    "\n",
    "    # Linear least-squares fit: target ≈ a * bg + b\n",
    "    A = np.vstack([bg_values, np.ones_like(bg_values)]).T\n",
    "    coef, intercept = np.linalg.lstsq(A, target_values, rcond=None)[0]\n",
    "\n",
    "    # Apply correction\n",
    "    corrected = ch_target - (coef * ch_bg + intercept)\n",
    "    corrected = np.clip(corrected, 0, None).astype(np.float32)\n",
    "\n",
    "    # Save results (store coefficient + intercept)\n",
    "    results[target_chan].update({\"coef\": float(coef), \"intercept\": float(intercept)})\n",
    "\n",
    "    print(f\"Channel {target_chan}: coef = {coef:.4f}, intercept = {intercept:.2f}\")\n",
    "\n",
    "# Summary\n",
    "print(\"\\n Summary of all correction coefficients:\")\n",
    "for ch, vals in results.items():\n",
    "    print(f\"Channel {ch} (BG {vals['background']}): coef={vals['coef']:.4f}, intercept={vals['intercept']:.2f}\")\n"
   ]
  },
  {
   "cell_type": "markdown",
   "id": "f15d00b8",
   "metadata": {},
   "source": [
    "#### 6. Save the calculated co-efficients per channel"
   ]
  },
  {
   "cell_type": "code",
   "execution_count": 31,
   "id": "d2990a8f",
   "metadata": {},
   "outputs": [
    {
     "name": "stdout",
     "output_type": "stream",
     "text": [
      "Saved coefficients to correction_coefficients.csv\n"
     ]
    }
   ],
   "source": [
    "# Save results to CSV\n",
    "df_results = pd.DataFrame([\n",
    "    {\"target_channel\": ch, **vals} for ch, vals in results.items()\n",
    "])\n",
    "df_results.to_csv(\"C:/Users/g/Downloads/correction_coefficients.csv\", index=False)\n",
    "print(\"Saved coefficients to correction_coefficients.csv\")\n"
   ]
  },
  {
   "cell_type": "markdown",
   "id": "268b4f2e",
   "metadata": {},
   "source": [
    "#### 7. Save the corrected output image with the all corrected channels"
   ]
  },
  {
   "cell_type": "code",
   "execution_count": 33,
   "id": "5330b7b8",
   "metadata": {},
   "outputs": [
    {
     "name": "stdout",
     "output_type": "stream",
     "text": [
      "\n",
      "Full 7-channel corrected image saved to: C:\\Users\\g\\Downloads\\7ch_corrected_allchannels.ome.tif\n"
     ]
    }
   ],
   "source": [
    "# Save all corrected channels as a single OME-TIFF\n",
    "output_path = Path(\"C:/Users/g/Downloads/7ch_corrected_allchannels.ome.tif\")\n",
    "\n",
    "# Build arr_corrected from original arr and the computed coefficients in `results`.\n",
    "# If a channel was corrected (present in results), apply correction:\n",
    "# corrected = ch_target - (coef * ch_bg + intercept)\n",
    "# Otherwise keep the original channel.\n",
    "arr_corrected = arr.astype(np.float32).copy()\n",
    "\n",
    "# Ensure results is available and contains coefficients for target channels\n",
    "for ch_idx in range(C):\n",
    "    if ch_idx in results:\n",
    "        info = results[ch_idx]\n",
    "        bg_idx = info[\"background\"]\n",
    "        coef = float(info[\"coef\"])\n",
    "        intercept = float(info[\"intercept\"])\n",
    "\n",
    "        ch_target = arr[ch_idx].astype(np.float32)\n",
    "        ch_bg = arr[bg_idx].astype(np.float32)\n",
    "\n",
    "        corrected = ch_target - (coef * ch_bg + intercept)\n",
    "        # Clip to valid uint16 range before converting\n",
    "        corrected = np.clip(corrected, 0, 65535)\n",
    "        arr_corrected[ch_idx] = corrected\n",
    "    else:\n",
    "        # keep original (already in arr_corrected)\n",
    "        continue\n",
    "\n",
    "# Convert to uint16 for saving\n",
    "arr_corrected = arr_corrected.astype(np.uint16)\n",
    "\n",
    "tiff.imwrite(\n",
    "    output_path,\n",
    "    arr_corrected,\n",
    "    photometric='minisblack'\n",
    ")\n",
    "\n",
    "print(f\"\\nFull {C}-channel corrected image saved to: {output_path}\")\n"
   ]
  }
 ],
 "metadata": {
  "kernelspec": {
   "display_name": "venv",
   "language": "python",
   "name": "python3"
  },
  "language_info": {
   "codemirror_mode": {
    "name": "ipython",
    "version": 3
   },
   "file_extension": ".py",
   "mimetype": "text/x-python",
   "name": "python",
   "nbconvert_exporter": "python",
   "pygments_lexer": "ipython3",
   "version": "3.11.9"
  }
 },
 "nbformat": 4,
 "nbformat_minor": 5
}
